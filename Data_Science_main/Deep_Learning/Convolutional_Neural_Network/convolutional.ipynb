{
 "cells": [
  {
   "cell_type": "code",
   "execution_count": 2,
   "metadata": {},
   "outputs": [],
   "source": [
    "import pandas as pd\n",
    "import numpy as np \n",
    "import matplotlib.pyplot as plt \n",
    "from sklearn.model_selection import train_test_split\n",
    "from sklearn.preprocessing import StandardScaler\n",
    "import tensorflow as tf \n",
    "from tensorflow import keras\n",
    "from keras.datasets import fashion_mnist"
   ]
  },
  {
   "cell_type": "code",
   "execution_count": 3,
   "metadata": {},
   "outputs": [],
   "source": [
    "data= fashion_mnist"
   ]
  },
  {
   "cell_type": "code",
   "execution_count": 4,
   "metadata": {},
   "outputs": [
    {
     "data": {
      "text/plain": [
       "<module 'keras.datasets.fashion_mnist' from 'c:\\\\Users\\\\DELL\\\\AppData\\\\Local\\\\Programs\\\\Python\\\\Python311\\\\Lib\\\\site-packages\\\\keras\\\\datasets\\\\fashion_mnist\\\\__init__.py'>"
      ]
     },
     "execution_count": 4,
     "metadata": {},
     "output_type": "execute_result"
    }
   ],
   "source": [
    "data"
   ]
  },
  {
   "cell_type": "code",
   "execution_count": 5,
   "metadata": {},
   "outputs": [],
   "source": [
    "(x_train_full,y_train_full),(x_test,y_test)=data.load_data()"
   ]
  },
  {
   "cell_type": "code",
   "execution_count": 6,
   "metadata": {},
   "outputs": [
    {
     "data": {
      "text/plain": [
       "((60000, 28, 28), (60000,), (10000, 28, 28), (10000,))"
      ]
     },
     "execution_count": 6,
     "metadata": {},
     "output_type": "execute_result"
    }
   ],
   "source": [
    "x_train_full.shape,y_train_full.shape,x_test.shape,y_test.shape"
   ]
  },
  {
   "cell_type": "code",
   "execution_count": 7,
   "metadata": {},
   "outputs": [],
   "source": [
    "x_train_full=x_train_full.reshape((60000,28,28,1))\n",
    "x_test=x_test.reshape((10000,28,28,1))"
   ]
  },
  {
   "cell_type": "code",
   "execution_count": 8,
   "metadata": {},
   "outputs": [],
   "source": [
    "x_train=x_train_full/255.0\n",
    "x_test=x_test/255.0"
   ]
  },
  {
   "cell_type": "code",
   "execution_count": 9,
   "metadata": {},
   "outputs": [],
   "source": [
    "np.random.seed(42)\n",
    "tf.random.set_seed(42)"
   ]
  },
  {
   "cell_type": "code",
   "execution_count": 10,
   "metadata": {},
   "outputs": [],
   "source": [
    "x_valid,x_train=x_train[:5000],x_train[5000:]\n",
    "y_valid,y_train=y_train_full[:5000],y_train_full[5000:]"
   ]
  },
  {
   "cell_type": "code",
   "execution_count": 11,
   "metadata": {},
   "outputs": [
    {
     "data": {
      "text/plain": [
       "((5000, 28, 28, 1), (5000,), (55000, 28, 28, 1), (55000,))"
      ]
     },
     "execution_count": 11,
     "metadata": {},
     "output_type": "execute_result"
    }
   ],
   "source": [
    "x_valid.shape,y_valid.shape,x_train.shape,y_train.shape"
   ]
  },
  {
   "cell_type": "code",
   "execution_count": 12,
   "metadata": {},
   "outputs": [],
   "source": [
    "model=keras.models.Sequential()\n",
    "model.add(keras.layers.Conv2D(filters=32,kernel_size=(3,3),strides=1,padding='valid',activation='relu',input_shape=(28,28,1),))\n",
    "model.add(keras.layers.MaxPool2D((2,2)))\n",
    "model.add(keras.layers.Flatten())\n",
    "model.add(keras.layers.Dense(30,activation='relu'))\n",
    "model.add(keras.layers.Dense(30,activation='relu'))\n",
    "model.add(keras.layers.Dense(10,activation='softmax'))\n"
   ]
  },
  {
   "cell_type": "code",
   "execution_count": 13,
   "metadata": {},
   "outputs": [
    {
     "name": "stdout",
     "output_type": "stream",
     "text": [
      "Model: \"sequential\"\n",
      "_________________________________________________________________\n",
      " Layer (type)                Output Shape              Param #   \n",
      "=================================================================\n",
      " conv2d (Conv2D)             (None, 26, 26, 32)        320       \n",
      "                                                                 \n",
      " max_pooling2d (MaxPooling2  (None, 13, 13, 32)        0         \n",
      " D)                                                              \n",
      "                                                                 \n",
      " flatten (Flatten)           (None, 5408)              0         \n",
      "                                                                 \n",
      " dense (Dense)               (None, 30)                162270    \n",
      "                                                                 \n",
      " dense_1 (Dense)             (None, 30)                930       \n",
      "                                                                 \n",
      " dense_2 (Dense)             (None, 10)                310       \n",
      "                                                                 \n",
      "=================================================================\n",
      "Total params: 163830 (639.96 KB)\n",
      "Trainable params: 163830 (639.96 KB)\n",
      "Non-trainable params: 0 (0.00 Byte)\n",
      "_________________________________________________________________\n"
     ]
    }
   ],
   "source": [
    "model.summary()"
   ]
  },
  {
   "cell_type": "code",
   "execution_count": 14,
   "metadata": {},
   "outputs": [],
   "source": [
    "model.compile(\n",
    "    loss='sparse_categorical_crossentropy',\n",
    "    optimizer='sgd',\n",
    "    metrics=(['accuracy'])\n",
    ")"
   ]
  },
  {
   "cell_type": "code",
   "execution_count": 15,
   "metadata": {},
   "outputs": [],
   "source": [
    "check=keras.callbacks.EarlyStopping(patience=10,restore_best_weights=True)"
   ]
  },
  {
   "cell_type": "code",
   "execution_count": 16,
   "metadata": {},
   "outputs": [
    {
     "name": "stdout",
     "output_type": "stream",
     "text": [
      "Epoch 1/200\n",
      "1719/1719 [==============================] - 23s 13ms/step - loss: 0.8115 - accuracy: 0.7135 - val_loss: 0.6191 - val_accuracy: 0.7824\n",
      "Epoch 2/200\n",
      "1719/1719 [==============================] - 26s 15ms/step - loss: 0.5161 - accuracy: 0.8113 - val_loss: 0.4464 - val_accuracy: 0.8464\n",
      "Epoch 3/200\n",
      "1719/1719 [==============================] - 21s 12ms/step - loss: 0.4546 - accuracy: 0.8349 - val_loss: 0.7312 - val_accuracy: 0.7286\n",
      "Epoch 4/200\n",
      "1719/1719 [==============================] - 21s 12ms/step - loss: 0.4142 - accuracy: 0.8513 - val_loss: 0.3809 - val_accuracy: 0.8700\n",
      "Epoch 5/200\n",
      "1719/1719 [==============================] - 21s 12ms/step - loss: 0.3843 - accuracy: 0.8611 - val_loss: 0.3612 - val_accuracy: 0.8730\n",
      "Epoch 6/200\n",
      "1719/1719 [==============================] - 27s 16ms/step - loss: 0.3576 - accuracy: 0.8708 - val_loss: 0.3459 - val_accuracy: 0.8830\n",
      "Epoch 7/200\n",
      "1719/1719 [==============================] - 23s 14ms/step - loss: 0.3398 - accuracy: 0.8775 - val_loss: 0.3496 - val_accuracy: 0.8778\n",
      "Epoch 8/200\n",
      "1719/1719 [==============================] - 25s 15ms/step - loss: 0.3248 - accuracy: 0.8822 - val_loss: 0.3811 - val_accuracy: 0.8668\n",
      "Epoch 9/200\n",
      "1719/1719 [==============================] - 26s 15ms/step - loss: 0.3106 - accuracy: 0.8883 - val_loss: 0.3252 - val_accuracy: 0.8846\n",
      "Epoch 10/200\n",
      "1719/1719 [==============================] - 25s 15ms/step - loss: 0.2997 - accuracy: 0.8917 - val_loss: 0.3176 - val_accuracy: 0.8880\n",
      "Epoch 11/200\n",
      "1719/1719 [==============================] - 24s 14ms/step - loss: 0.2896 - accuracy: 0.8950 - val_loss: 0.3092 - val_accuracy: 0.8916\n",
      "Epoch 12/200\n",
      "1719/1719 [==============================] - 26s 15ms/step - loss: 0.2794 - accuracy: 0.8987 - val_loss: 0.2934 - val_accuracy: 0.8972\n",
      "Epoch 13/200\n",
      "1719/1719 [==============================] - 26s 15ms/step - loss: 0.2717 - accuracy: 0.9016 - val_loss: 0.2911 - val_accuracy: 0.8986\n",
      "Epoch 14/200\n",
      "1719/1719 [==============================] - 24s 14ms/step - loss: 0.2637 - accuracy: 0.9057 - val_loss: 0.3253 - val_accuracy: 0.8824\n",
      "Epoch 15/200\n",
      "1719/1719 [==============================] - 24s 14ms/step - loss: 0.2558 - accuracy: 0.9079 - val_loss: 0.2973 - val_accuracy: 0.8954\n",
      "Epoch 16/200\n",
      "1719/1719 [==============================] - 32s 19ms/step - loss: 0.2492 - accuracy: 0.9111 - val_loss: 0.2784 - val_accuracy: 0.9036\n",
      "Epoch 17/200\n",
      "1719/1719 [==============================] - 28s 16ms/step - loss: 0.2424 - accuracy: 0.9116 - val_loss: 0.3098 - val_accuracy: 0.8938\n",
      "Epoch 18/200\n",
      "1719/1719 [==============================] - 41s 24ms/step - loss: 0.2358 - accuracy: 0.9152 - val_loss: 0.2923 - val_accuracy: 0.9022\n",
      "Epoch 19/200\n",
      "1719/1719 [==============================] - 27s 15ms/step - loss: 0.2299 - accuracy: 0.9179 - val_loss: 0.2800 - val_accuracy: 0.9024\n",
      "Epoch 20/200\n",
      "1719/1719 [==============================] - 22s 13ms/step - loss: 0.2243 - accuracy: 0.9190 - val_loss: 0.3090 - val_accuracy: 0.8922\n",
      "Epoch 21/200\n",
      "1719/1719 [==============================] - 27s 16ms/step - loss: 0.2173 - accuracy: 0.9215 - val_loss: 0.2648 - val_accuracy: 0.9056\n",
      "Epoch 22/200\n",
      "1719/1719 [==============================] - 25s 15ms/step - loss: 0.2123 - accuracy: 0.9227 - val_loss: 0.2583 - val_accuracy: 0.9078\n",
      "Epoch 23/200\n",
      "1719/1719 [==============================] - 25s 15ms/step - loss: 0.2068 - accuracy: 0.9247 - val_loss: 0.2595 - val_accuracy: 0.9080\n",
      "Epoch 24/200\n",
      "1719/1719 [==============================] - 28s 16ms/step - loss: 0.2021 - accuracy: 0.9270 - val_loss: 0.2643 - val_accuracy: 0.9058\n",
      "Epoch 25/200\n",
      "1719/1719 [==============================] - 25s 15ms/step - loss: 0.1972 - accuracy: 0.9290 - val_loss: 0.2693 - val_accuracy: 0.9074\n",
      "Epoch 26/200\n",
      "1719/1719 [==============================] - 26s 15ms/step - loss: 0.1931 - accuracy: 0.9308 - val_loss: 0.2622 - val_accuracy: 0.9076\n",
      "Epoch 27/200\n",
      "1719/1719 [==============================] - 28s 16ms/step - loss: 0.1891 - accuracy: 0.9324 - val_loss: 0.2841 - val_accuracy: 0.9028\n",
      "Epoch 28/200\n",
      "1719/1719 [==============================] - 27s 16ms/step - loss: 0.1840 - accuracy: 0.9338 - val_loss: 0.2733 - val_accuracy: 0.9030\n",
      "Epoch 29/200\n",
      "1719/1719 [==============================] - 29s 17ms/step - loss: 0.1799 - accuracy: 0.9344 - val_loss: 0.2641 - val_accuracy: 0.9080\n",
      "Epoch 30/200\n",
      "1719/1719 [==============================] - 25s 15ms/step - loss: 0.1754 - accuracy: 0.9360 - val_loss: 0.2604 - val_accuracy: 0.9098\n",
      "Epoch 31/200\n",
      "1719/1719 [==============================] - 26s 15ms/step - loss: 0.1711 - accuracy: 0.9376 - val_loss: 0.2588 - val_accuracy: 0.9122\n",
      "Epoch 32/200\n",
      "1719/1719 [==============================] - 26s 15ms/step - loss: 0.1678 - accuracy: 0.9394 - val_loss: 0.2625 - val_accuracy: 0.9092\n"
     ]
    },
    {
     "data": {
      "text/plain": [
       "<keras.src.callbacks.History at 0x1d31e993590>"
      ]
     },
     "execution_count": 16,
     "metadata": {},
     "output_type": "execute_result"
    }
   ],
   "source": [
    "model.fit(x_train,y_train,epochs=200, validation_data=(x_valid,y_valid),callbacks=[check])"
   ]
  },
  {
   "cell_type": "markdown",
   "metadata": {},
   "source": []
  }
 ],
 "metadata": {
  "kernelspec": {
   "display_name": "Python 3",
   "language": "python",
   "name": "python3"
  },
  "language_info": {
   "codemirror_mode": {
    "name": "ipython",
    "version": 3
   },
   "file_extension": ".py",
   "mimetype": "text/x-python",
   "name": "python",
   "nbconvert_exporter": "python",
   "pygments_lexer": "ipython3",
   "version": "3.11.4"
  },
  "orig_nbformat": 4
 },
 "nbformat": 4,
 "nbformat_minor": 2
}
