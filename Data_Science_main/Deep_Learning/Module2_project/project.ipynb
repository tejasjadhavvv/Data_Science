{
 "cells": [
  {
   "cell_type": "code",
   "execution_count": 1,
   "metadata": {},
   "outputs": [],
   "source": [
    "import pandas as pd "
   ]
  },
  {
   "cell_type": "code",
   "execution_count": 2,
   "metadata": {},
   "outputs": [],
   "source": [
    "df1=pd.read_csv('Movie_collection_Target.csv')"
   ]
  },
  {
   "cell_type": "code",
   "execution_count": 3,
   "metadata": {},
   "outputs": [
    {
     "data": {
      "text/html": [
       "<div>\n",
       "<style scoped>\n",
       "    .dataframe tbody tr th:only-of-type {\n",
       "        vertical-align: middle;\n",
       "    }\n",
       "\n",
       "    .dataframe tbody tr th {\n",
       "        vertical-align: top;\n",
       "    }\n",
       "\n",
       "    .dataframe thead th {\n",
       "        text-align: right;\n",
       "    }\n",
       "</style>\n",
       "<table border=\"1\" class=\"dataframe\">\n",
       "  <thead>\n",
       "    <tr style=\"text-align: right;\">\n",
       "      <th></th>\n",
       "      <th>Collection</th>\n",
       "    </tr>\n",
       "  </thead>\n",
       "  <tbody>\n",
       "    <tr>\n",
       "      <th>0</th>\n",
       "      <td>2.266667</td>\n",
       "    </tr>\n",
       "    <tr>\n",
       "      <th>1</th>\n",
       "      <td>2.106667</td>\n",
       "    </tr>\n",
       "    <tr>\n",
       "      <th>2</th>\n",
       "      <td>2.980000</td>\n",
       "    </tr>\n",
       "    <tr>\n",
       "      <th>3</th>\n",
       "      <td>2.893333</td>\n",
       "    </tr>\n",
       "    <tr>\n",
       "      <th>4</th>\n",
       "      <td>3.080000</td>\n",
       "    </tr>\n",
       "  </tbody>\n",
       "</table>\n",
       "</div>"
      ],
      "text/plain": [
       "   Collection\n",
       "0    2.266667\n",
       "1    2.106667\n",
       "2    2.980000\n",
       "3    2.893333\n",
       "4    3.080000"
      ]
     },
     "execution_count": 3,
     "metadata": {},
     "output_type": "execute_result"
    }
   ],
   "source": [
    "df1.head()"
   ]
  },
  {
   "cell_type": "code",
   "execution_count": 4,
   "metadata": {},
   "outputs": [],
   "source": [
    "df2=pd.read_csv('Movie_collection_Independent.csv')"
   ]
  },
  {
   "cell_type": "code",
   "execution_count": 5,
   "metadata": {},
   "outputs": [
    {
     "data": {
      "text/html": [
       "<div>\n",
       "<style scoped>\n",
       "    .dataframe tbody tr th:only-of-type {\n",
       "        vertical-align: middle;\n",
       "    }\n",
       "\n",
       "    .dataframe tbody tr th {\n",
       "        vertical-align: top;\n",
       "    }\n",
       "\n",
       "    .dataframe thead th {\n",
       "        text-align: right;\n",
       "    }\n",
       "</style>\n",
       "<table border=\"1\" class=\"dataframe\">\n",
       "  <thead>\n",
       "    <tr style=\"text-align: right;\">\n",
       "      <th></th>\n",
       "      <th>Marketin_expense</th>\n",
       "      <th>Production_expense</th>\n",
       "      <th>Multiplex_coverage</th>\n",
       "      <th>Budget</th>\n",
       "      <th>Movie_length</th>\n",
       "      <th>Lead_ Actor_Rating</th>\n",
       "      <th>Lead_Actress_rating</th>\n",
       "      <th>Director_rating</th>\n",
       "      <th>Producer_rating</th>\n",
       "      <th>Critic_rating</th>\n",
       "      <th>Trailer_views</th>\n",
       "      <th>Time_taken</th>\n",
       "      <th>Twitter_hastags</th>\n",
       "      <th>Avg_age_actors</th>\n",
       "      <th>Num_multiplex</th>\n",
       "      <th>3D_available</th>\n",
       "      <th>Genre_Thriller</th>\n",
       "      <th>Genre_Drama</th>\n",
       "      <th>Genre_Comedy</th>\n",
       "    </tr>\n",
       "  </thead>\n",
       "  <tbody>\n",
       "    <tr>\n",
       "      <th>0</th>\n",
       "      <td>20.1264</td>\n",
       "      <td>59.62</td>\n",
       "      <td>0.462</td>\n",
       "      <td>36524.125</td>\n",
       "      <td>138.7</td>\n",
       "      <td>7.825</td>\n",
       "      <td>8.095</td>\n",
       "      <td>7.910</td>\n",
       "      <td>7.995</td>\n",
       "      <td>7.94</td>\n",
       "      <td>527367</td>\n",
       "      <td>109.60</td>\n",
       "      <td>223.840</td>\n",
       "      <td>23</td>\n",
       "      <td>494</td>\n",
       "      <td>1</td>\n",
       "      <td>1</td>\n",
       "      <td>0</td>\n",
       "      <td>0</td>\n",
       "    </tr>\n",
       "    <tr>\n",
       "      <th>1</th>\n",
       "      <td>20.5462</td>\n",
       "      <td>69.14</td>\n",
       "      <td>0.531</td>\n",
       "      <td>35668.655</td>\n",
       "      <td>152.4</td>\n",
       "      <td>7.505</td>\n",
       "      <td>7.650</td>\n",
       "      <td>7.440</td>\n",
       "      <td>7.470</td>\n",
       "      <td>7.44</td>\n",
       "      <td>494055</td>\n",
       "      <td>146.64</td>\n",
       "      <td>243.456</td>\n",
       "      <td>42</td>\n",
       "      <td>462</td>\n",
       "      <td>0</td>\n",
       "      <td>0</td>\n",
       "      <td>1</td>\n",
       "      <td>0</td>\n",
       "    </tr>\n",
       "    <tr>\n",
       "      <th>2</th>\n",
       "      <td>20.5458</td>\n",
       "      <td>69.14</td>\n",
       "      <td>0.531</td>\n",
       "      <td>39912.675</td>\n",
       "      <td>134.6</td>\n",
       "      <td>7.485</td>\n",
       "      <td>7.570</td>\n",
       "      <td>7.495</td>\n",
       "      <td>7.515</td>\n",
       "      <td>7.44</td>\n",
       "      <td>547051</td>\n",
       "      <td>147.88</td>\n",
       "      <td>2022.400</td>\n",
       "      <td>38</td>\n",
       "      <td>458</td>\n",
       "      <td>0</td>\n",
       "      <td>0</td>\n",
       "      <td>0</td>\n",
       "      <td>1</td>\n",
       "    </tr>\n",
       "    <tr>\n",
       "      <th>3</th>\n",
       "      <td>20.6474</td>\n",
       "      <td>59.36</td>\n",
       "      <td>0.542</td>\n",
       "      <td>38873.890</td>\n",
       "      <td>119.3</td>\n",
       "      <td>6.895</td>\n",
       "      <td>7.035</td>\n",
       "      <td>6.920</td>\n",
       "      <td>7.020</td>\n",
       "      <td>8.26</td>\n",
       "      <td>516279</td>\n",
       "      <td>185.36</td>\n",
       "      <td>225.344</td>\n",
       "      <td>45</td>\n",
       "      <td>472</td>\n",
       "      <td>1</td>\n",
       "      <td>0</td>\n",
       "      <td>1</td>\n",
       "      <td>0</td>\n",
       "    </tr>\n",
       "    <tr>\n",
       "      <th>4</th>\n",
       "      <td>21.3810</td>\n",
       "      <td>59.36</td>\n",
       "      <td>0.542</td>\n",
       "      <td>39701.585</td>\n",
       "      <td>127.7</td>\n",
       "      <td>6.920</td>\n",
       "      <td>7.070</td>\n",
       "      <td>6.815</td>\n",
       "      <td>7.070</td>\n",
       "      <td>8.26</td>\n",
       "      <td>531448</td>\n",
       "      <td>176.48</td>\n",
       "      <td>225.792</td>\n",
       "      <td>55</td>\n",
       "      <td>395</td>\n",
       "      <td>0</td>\n",
       "      <td>0</td>\n",
       "      <td>1</td>\n",
       "      <td>0</td>\n",
       "    </tr>\n",
       "  </tbody>\n",
       "</table>\n",
       "</div>"
      ],
      "text/plain": [
       "   Marketin_expense  Production_expense  Multiplex_coverage     Budget   \n",
       "0           20.1264               59.62               0.462  36524.125  \\\n",
       "1           20.5462               69.14               0.531  35668.655   \n",
       "2           20.5458               69.14               0.531  39912.675   \n",
       "3           20.6474               59.36               0.542  38873.890   \n",
       "4           21.3810               59.36               0.542  39701.585   \n",
       "\n",
       "   Movie_length  Lead_ Actor_Rating  Lead_Actress_rating  Director_rating   \n",
       "0         138.7               7.825                8.095            7.910  \\\n",
       "1         152.4               7.505                7.650            7.440   \n",
       "2         134.6               7.485                7.570            7.495   \n",
       "3         119.3               6.895                7.035            6.920   \n",
       "4         127.7               6.920                7.070            6.815   \n",
       "\n",
       "   Producer_rating  Critic_rating  Trailer_views  Time_taken  Twitter_hastags   \n",
       "0            7.995           7.94         527367      109.60          223.840  \\\n",
       "1            7.470           7.44         494055      146.64          243.456   \n",
       "2            7.515           7.44         547051      147.88         2022.400   \n",
       "3            7.020           8.26         516279      185.36          225.344   \n",
       "4            7.070           8.26         531448      176.48          225.792   \n",
       "\n",
       "   Avg_age_actors  Num_multiplex  3D_available  Genre_Thriller  Genre_Drama   \n",
       "0              23            494             1               1            0  \\\n",
       "1              42            462             0               0            1   \n",
       "2              38            458             0               0            0   \n",
       "3              45            472             1               0            1   \n",
       "4              55            395             0               0            1   \n",
       "\n",
       "   Genre_Comedy  \n",
       "0             0  \n",
       "1             0  \n",
       "2             1  \n",
       "3             0  \n",
       "4             0  "
      ]
     },
     "execution_count": 5,
     "metadata": {},
     "output_type": "execute_result"
    }
   ],
   "source": [
    "df2.head()"
   ]
  },
  {
   "cell_type": "code",
   "execution_count": 6,
   "metadata": {},
   "outputs": [],
   "source": [
    "# data=pd.concat([df1,df2] ,ignore_index=True)\n",
    "# data=pd.concat([df2,df1] ,ignore_index=True)"
   ]
  },
  {
   "cell_type": "code",
   "execution_count": 7,
   "metadata": {},
   "outputs": [],
   "source": [
    "# data.head(\n",
    "    \n",
    "# )"
   ]
  },
  {
   "cell_type": "code",
   "execution_count": 8,
   "metadata": {},
   "outputs": [],
   "source": [
    "# data.isnull().sum()"
   ]
  },
  {
   "cell_type": "code",
   "execution_count": 9,
   "metadata": {},
   "outputs": [
    {
     "data": {
      "text/plain": [
       "(Collection    0\n",
       " dtype: int64,\n",
       " Marketin_expense       0\n",
       " Production_expense     0\n",
       " Multiplex_coverage     0\n",
       " Budget                 0\n",
       " Movie_length           0\n",
       " Lead_ Actor_Rating     0\n",
       " Lead_Actress_rating    0\n",
       " Director_rating        0\n",
       " Producer_rating        0\n",
       " Critic_rating          0\n",
       " Trailer_views          0\n",
       " Time_taken             0\n",
       " Twitter_hastags        0\n",
       " Avg_age_actors         0\n",
       " Num_multiplex          0\n",
       " 3D_available           0\n",
       " Genre_Thriller         0\n",
       " Genre_Drama            0\n",
       " Genre_Comedy           0\n",
       " dtype: int64)"
      ]
     },
     "execution_count": 9,
     "metadata": {},
     "output_type": "execute_result"
    }
   ],
   "source": [
    "df1.isnull().sum(),df2.isnull().sum()"
   ]
  },
  {
   "cell_type": "code",
   "execution_count": 10,
   "metadata": {},
   "outputs": [],
   "source": [
    "import numpy as np\n",
    "import matplotlib.pyplot as plt \n",
    "from sklearn.preprocessing import StandardScaler\n",
    "import matplotlib.pyplot as plt \n",
    "import tensorflow as tf \n",
    "from tensorflow import keras \n",
    "from sklearn.model_selection import train_test_split\n"
   ]
  },
  {
   "cell_type": "code",
   "execution_count": 11,
   "metadata": {},
   "outputs": [
    {
     "data": {
      "text/plain": [
       "(506, 19)"
      ]
     },
     "execution_count": 11,
     "metadata": {},
     "output_type": "execute_result"
    }
   ],
   "source": [
    "df2.shape"
   ]
  },
  {
   "cell_type": "code",
   "execution_count": 12,
   "metadata": {},
   "outputs": [],
   "source": [
    "X=df2\n",
    "Y=df1"
   ]
  },
  {
   "cell_type": "code",
   "execution_count": 13,
   "metadata": {},
   "outputs": [
    {
     "data": {
      "text/html": [
       "<div>\n",
       "<style scoped>\n",
       "    .dataframe tbody tr th:only-of-type {\n",
       "        vertical-align: middle;\n",
       "    }\n",
       "\n",
       "    .dataframe tbody tr th {\n",
       "        vertical-align: top;\n",
       "    }\n",
       "\n",
       "    .dataframe thead th {\n",
       "        text-align: right;\n",
       "    }\n",
       "</style>\n",
       "<table border=\"1\" class=\"dataframe\">\n",
       "  <thead>\n",
       "    <tr style=\"text-align: right;\">\n",
       "      <th></th>\n",
       "      <th>Marketin_expense</th>\n",
       "      <th>Production_expense</th>\n",
       "      <th>Multiplex_coverage</th>\n",
       "      <th>Budget</th>\n",
       "      <th>Movie_length</th>\n",
       "      <th>Lead_ Actor_Rating</th>\n",
       "      <th>Lead_Actress_rating</th>\n",
       "      <th>Director_rating</th>\n",
       "      <th>Producer_rating</th>\n",
       "      <th>Critic_rating</th>\n",
       "      <th>Trailer_views</th>\n",
       "      <th>Time_taken</th>\n",
       "      <th>Twitter_hastags</th>\n",
       "      <th>Avg_age_actors</th>\n",
       "      <th>Num_multiplex</th>\n",
       "      <th>3D_available</th>\n",
       "      <th>Genre_Thriller</th>\n",
       "      <th>Genre_Drama</th>\n",
       "      <th>Genre_Comedy</th>\n",
       "    </tr>\n",
       "  </thead>\n",
       "  <tbody>\n",
       "    <tr>\n",
       "      <th>0</th>\n",
       "      <td>20.1264</td>\n",
       "      <td>59.62</td>\n",
       "      <td>0.462</td>\n",
       "      <td>36524.125</td>\n",
       "      <td>138.7</td>\n",
       "      <td>7.825</td>\n",
       "      <td>8.095</td>\n",
       "      <td>7.910</td>\n",
       "      <td>7.995</td>\n",
       "      <td>7.94</td>\n",
       "      <td>527367</td>\n",
       "      <td>109.60</td>\n",
       "      <td>223.840</td>\n",
       "      <td>23</td>\n",
       "      <td>494</td>\n",
       "      <td>1</td>\n",
       "      <td>1</td>\n",
       "      <td>0</td>\n",
       "      <td>0</td>\n",
       "    </tr>\n",
       "    <tr>\n",
       "      <th>1</th>\n",
       "      <td>20.5462</td>\n",
       "      <td>69.14</td>\n",
       "      <td>0.531</td>\n",
       "      <td>35668.655</td>\n",
       "      <td>152.4</td>\n",
       "      <td>7.505</td>\n",
       "      <td>7.650</td>\n",
       "      <td>7.440</td>\n",
       "      <td>7.470</td>\n",
       "      <td>7.44</td>\n",
       "      <td>494055</td>\n",
       "      <td>146.64</td>\n",
       "      <td>243.456</td>\n",
       "      <td>42</td>\n",
       "      <td>462</td>\n",
       "      <td>0</td>\n",
       "      <td>0</td>\n",
       "      <td>1</td>\n",
       "      <td>0</td>\n",
       "    </tr>\n",
       "    <tr>\n",
       "      <th>2</th>\n",
       "      <td>20.5458</td>\n",
       "      <td>69.14</td>\n",
       "      <td>0.531</td>\n",
       "      <td>39912.675</td>\n",
       "      <td>134.6</td>\n",
       "      <td>7.485</td>\n",
       "      <td>7.570</td>\n",
       "      <td>7.495</td>\n",
       "      <td>7.515</td>\n",
       "      <td>7.44</td>\n",
       "      <td>547051</td>\n",
       "      <td>147.88</td>\n",
       "      <td>2022.400</td>\n",
       "      <td>38</td>\n",
       "      <td>458</td>\n",
       "      <td>0</td>\n",
       "      <td>0</td>\n",
       "      <td>0</td>\n",
       "      <td>1</td>\n",
       "    </tr>\n",
       "    <tr>\n",
       "      <th>3</th>\n",
       "      <td>20.6474</td>\n",
       "      <td>59.36</td>\n",
       "      <td>0.542</td>\n",
       "      <td>38873.890</td>\n",
       "      <td>119.3</td>\n",
       "      <td>6.895</td>\n",
       "      <td>7.035</td>\n",
       "      <td>6.920</td>\n",
       "      <td>7.020</td>\n",
       "      <td>8.26</td>\n",
       "      <td>516279</td>\n",
       "      <td>185.36</td>\n",
       "      <td>225.344</td>\n",
       "      <td>45</td>\n",
       "      <td>472</td>\n",
       "      <td>1</td>\n",
       "      <td>0</td>\n",
       "      <td>1</td>\n",
       "      <td>0</td>\n",
       "    </tr>\n",
       "    <tr>\n",
       "      <th>4</th>\n",
       "      <td>21.3810</td>\n",
       "      <td>59.36</td>\n",
       "      <td>0.542</td>\n",
       "      <td>39701.585</td>\n",
       "      <td>127.7</td>\n",
       "      <td>6.920</td>\n",
       "      <td>7.070</td>\n",
       "      <td>6.815</td>\n",
       "      <td>7.070</td>\n",
       "      <td>8.26</td>\n",
       "      <td>531448</td>\n",
       "      <td>176.48</td>\n",
       "      <td>225.792</td>\n",
       "      <td>55</td>\n",
       "      <td>395</td>\n",
       "      <td>0</td>\n",
       "      <td>0</td>\n",
       "      <td>1</td>\n",
       "      <td>0</td>\n",
       "    </tr>\n",
       "  </tbody>\n",
       "</table>\n",
       "</div>"
      ],
      "text/plain": [
       "   Marketin_expense  Production_expense  Multiplex_coverage     Budget   \n",
       "0           20.1264               59.62               0.462  36524.125  \\\n",
       "1           20.5462               69.14               0.531  35668.655   \n",
       "2           20.5458               69.14               0.531  39912.675   \n",
       "3           20.6474               59.36               0.542  38873.890   \n",
       "4           21.3810               59.36               0.542  39701.585   \n",
       "\n",
       "   Movie_length  Lead_ Actor_Rating  Lead_Actress_rating  Director_rating   \n",
       "0         138.7               7.825                8.095            7.910  \\\n",
       "1         152.4               7.505                7.650            7.440   \n",
       "2         134.6               7.485                7.570            7.495   \n",
       "3         119.3               6.895                7.035            6.920   \n",
       "4         127.7               6.920                7.070            6.815   \n",
       "\n",
       "   Producer_rating  Critic_rating  Trailer_views  Time_taken  Twitter_hastags   \n",
       "0            7.995           7.94         527367      109.60          223.840  \\\n",
       "1            7.470           7.44         494055      146.64          243.456   \n",
       "2            7.515           7.44         547051      147.88         2022.400   \n",
       "3            7.020           8.26         516279      185.36          225.344   \n",
       "4            7.070           8.26         531448      176.48          225.792   \n",
       "\n",
       "   Avg_age_actors  Num_multiplex  3D_available  Genre_Thriller  Genre_Drama   \n",
       "0              23            494             1               1            0  \\\n",
       "1              42            462             0               0            1   \n",
       "2              38            458             0               0            0   \n",
       "3              45            472             1               0            1   \n",
       "4              55            395             0               0            1   \n",
       "\n",
       "   Genre_Comedy  \n",
       "0             0  \n",
       "1             0  \n",
       "2             1  \n",
       "3             0  \n",
       "4             0  "
      ]
     },
     "execution_count": 13,
     "metadata": {},
     "output_type": "execute_result"
    }
   ],
   "source": [
    "X.head(\n",
    "    \n",
    ")"
   ]
  },
  {
   "cell_type": "code",
   "execution_count": 14,
   "metadata": {},
   "outputs": [
    {
     "data": {
      "text/html": [
       "<div>\n",
       "<style scoped>\n",
       "    .dataframe tbody tr th:only-of-type {\n",
       "        vertical-align: middle;\n",
       "    }\n",
       "\n",
       "    .dataframe tbody tr th {\n",
       "        vertical-align: top;\n",
       "    }\n",
       "\n",
       "    .dataframe thead th {\n",
       "        text-align: right;\n",
       "    }\n",
       "</style>\n",
       "<table border=\"1\" class=\"dataframe\">\n",
       "  <thead>\n",
       "    <tr style=\"text-align: right;\">\n",
       "      <th></th>\n",
       "      <th>Collection</th>\n",
       "    </tr>\n",
       "  </thead>\n",
       "  <tbody>\n",
       "    <tr>\n",
       "      <th>0</th>\n",
       "      <td>2.266667</td>\n",
       "    </tr>\n",
       "    <tr>\n",
       "      <th>1</th>\n",
       "      <td>2.106667</td>\n",
       "    </tr>\n",
       "    <tr>\n",
       "      <th>2</th>\n",
       "      <td>2.980000</td>\n",
       "    </tr>\n",
       "    <tr>\n",
       "      <th>3</th>\n",
       "      <td>2.893333</td>\n",
       "    </tr>\n",
       "    <tr>\n",
       "      <th>4</th>\n",
       "      <td>3.080000</td>\n",
       "    </tr>\n",
       "  </tbody>\n",
       "</table>\n",
       "</div>"
      ],
      "text/plain": [
       "   Collection\n",
       "0    2.266667\n",
       "1    2.106667\n",
       "2    2.980000\n",
       "3    2.893333\n",
       "4    3.080000"
      ]
     },
     "execution_count": 14,
     "metadata": {},
     "output_type": "execute_result"
    }
   ],
   "source": [
    "Y.head()"
   ]
  },
  {
   "cell_type": "code",
   "execution_count": 15,
   "metadata": {},
   "outputs": [
    {
     "data": {
      "text/plain": [
       "((506, 19), (506, 1))"
      ]
     },
     "execution_count": 15,
     "metadata": {},
     "output_type": "execute_result"
    }
   ],
   "source": [
    "X.shape,Y.shape"
   ]
  },
  {
   "cell_type": "code",
   "execution_count": 16,
   "metadata": {},
   "outputs": [],
   "source": [
    "x_train_full,x_test,y_train_full,y_test=train_test_split(X,Y , random_state=42)\n",
    "x_train,x_valid,y_train,y_valid=train_test_split(x_train_full,y_train_full,random_state=42)"
   ]
  },
  {
   "cell_type": "code",
   "execution_count": 17,
   "metadata": {},
   "outputs": [
    {
     "data": {
      "text/plain": [
       "((379, 19), (127, 19), (379, 1), (127, 1))"
      ]
     },
     "execution_count": 17,
     "metadata": {},
     "output_type": "execute_result"
    }
   ],
   "source": [
    "x_train_full.shape,x_test.shape,y_train_full.shape,y_test.shape"
   ]
  },
  {
   "cell_type": "code",
   "execution_count": 18,
   "metadata": {},
   "outputs": [
    {
     "data": {
      "text/plain": [
       "((284, 19), (95, 19), (284, 1), (95, 1))"
      ]
     },
     "execution_count": 18,
     "metadata": {},
     "output_type": "execute_result"
    }
   ],
   "source": [
    "x_train.shape,x_valid.shape,y_train.shape,y_valid.shape"
   ]
  },
  {
   "cell_type": "code",
   "execution_count": 19,
   "metadata": {},
   "outputs": [],
   "source": [
    "scalar=StandardScaler()\n",
    "x_train=scalar.fit_transform(x_train)\n",
    "x_valid=scalar.transform(x_valid)\n",
    "x_test=scalar.transform(x_test)"
   ]
  },
  {
   "cell_type": "code",
   "execution_count": 20,
   "metadata": {},
   "outputs": [],
   "source": [
    "model=keras.models.Sequential()\n",
    "model.add(keras.layers.Input(shape=[19]))\n",
    "model.add(keras.layers.Dense(30,activation='relu'))\n",
    "model.add(keras.layers.Dense(30,activation='relu'))\n",
    "model.add(keras.layers.Dense(1))\n"
   ]
  },
  {
   "cell_type": "code",
   "execution_count": null,
   "metadata": {},
   "outputs": [
    {
     "name": "stdout",
     "output_type": "stream",
     "text": [
      "Model: \"sequential_4\"\n",
      "_________________________________________________________________\n",
      " Layer (type)                Output Shape              Param #   \n",
      "=================================================================\n",
      " dense_12 (Dense)            (None, 30)                600       \n",
      "                                                                 \n",
      " dense_13 (Dense)            (None, 30)                930       \n",
      "                                                                 \n",
      " dense_14 (Dense)            (None, 1)                 31        \n",
      "                                                                 \n",
      "=================================================================\n",
      "Total params: 1561 (6.10 KB)\n",
      "Trainable params: 1561 (6.10 KB)\n",
      "Non-trainable params: 0 (0.00 Byte)\n",
      "_________________________________________________________________\n"
     ]
    }
   ],
   "source": [
    "model.summary()\n",
    "\n"
   ]
  },
  {
   "cell_type": "code",
   "execution_count": null,
   "metadata": {},
   "outputs": [
    {
     "name": "stderr",
     "output_type": "stream",
     "text": [
      "WARNING:absl:`lr` is deprecated in Keras optimizer, please use `learning_rate` or use the legacy optimizer, e.g.,tf.keras.optimizers.legacy.SGD.\n"
     ]
    }
   ],
   "source": [
    "model.compile(\n",
    "    loss='mean_squared_error',\n",
    "    optimizer=keras.optimizers.SGD(lr=1e-2),\n",
    "    metrics=['mae']\n",
    ")"
   ]
  },
  {
   "cell_type": "code",
   "execution_count": null,
   "metadata": {},
   "outputs": [],
   "source": [
    "check_point=keras.callbacks.EarlyStopping(patience=10,restore_best_weights=True) # here the patience are basically after converging the model how many time that model execute the epochs "
   ]
  },
  {
   "cell_type": "code",
   "execution_count": null,
   "metadata": {},
   "outputs": [
    {
     "name": "stdout",
     "output_type": "stream",
     "text": [
      "Epoch 1/300\n"
     ]
    },
    {
     "name": "stdout",
     "output_type": "stream",
     "text": [
      "9/9 [==============================] - 1s 26ms/step - loss: 3.1501 - mae: 1.6098 - val_loss: 1.5960 - val_mae: 1.0806\n",
      "Epoch 2/300\n",
      "9/9 [==============================] - 0s 7ms/step - loss: 0.8043 - mae: 0.7099 - val_loss: 0.8334 - val_mae: 0.7198\n",
      "Epoch 3/300\n",
      "9/9 [==============================] - 0s 9ms/step - loss: 0.4457 - mae: 0.5076 - val_loss: 0.6519 - val_mae: 0.6025\n",
      "Epoch 4/300\n",
      "9/9 [==============================] - 0s 8ms/step - loss: 0.3337 - mae: 0.4372 - val_loss: 0.5635 - val_mae: 0.5465\n",
      "Epoch 5/300\n",
      "9/9 [==============================] - 0s 7ms/step - loss: 0.2703 - mae: 0.3889 - val_loss: 0.4961 - val_mae: 0.5002\n",
      "Epoch 6/300\n",
      "9/9 [==============================] - 0s 8ms/step - loss: 0.2255 - mae: 0.3524 - val_loss: 0.4470 - val_mae: 0.4671\n",
      "Epoch 7/300\n",
      "9/9 [==============================] - 0s 7ms/step - loss: 0.1973 - mae: 0.3258 - val_loss: 0.4117 - val_mae: 0.4352\n",
      "Epoch 8/300\n",
      "9/9 [==============================] - 0s 7ms/step - loss: 0.1769 - mae: 0.3082 - val_loss: 0.3841 - val_mae: 0.4146\n",
      "Epoch 9/300\n",
      "9/9 [==============================] - 0s 7ms/step - loss: 0.1645 - mae: 0.2959 - val_loss: 0.3627 - val_mae: 0.4024\n",
      "Epoch 10/300\n",
      "9/9 [==============================] - 0s 7ms/step - loss: 0.1515 - mae: 0.2842 - val_loss: 0.3460 - val_mae: 0.3891\n",
      "Epoch 11/300\n",
      "9/9 [==============================] - 0s 7ms/step - loss: 0.1434 - mae: 0.2769 - val_loss: 0.3315 - val_mae: 0.3802\n",
      "Epoch 12/300\n",
      "9/9 [==============================] - 0s 7ms/step - loss: 0.1371 - mae: 0.2702 - val_loss: 0.3208 - val_mae: 0.3752\n",
      "Epoch 13/300\n",
      "9/9 [==============================] - 0s 8ms/step - loss: 0.1316 - mae: 0.2612 - val_loss: 0.3130 - val_mae: 0.3642\n",
      "Epoch 14/300\n",
      "9/9 [==============================] - 0s 7ms/step - loss: 0.1270 - mae: 0.2598 - val_loss: 0.3054 - val_mae: 0.3586\n",
      "Epoch 15/300\n",
      "9/9 [==============================] - 0s 17ms/step - loss: 0.1234 - mae: 0.2552 - val_loss: 0.2988 - val_mae: 0.3543\n",
      "Epoch 16/300\n",
      "9/9 [==============================] - 0s 7ms/step - loss: 0.1199 - mae: 0.2513 - val_loss: 0.2925 - val_mae: 0.3520\n",
      "Epoch 17/300\n",
      "9/9 [==============================] - 0s 6ms/step - loss: 0.1171 - mae: 0.2480 - val_loss: 0.2873 - val_mae: 0.3482\n",
      "Epoch 18/300\n",
      "9/9 [==============================] - 0s 6ms/step - loss: 0.1145 - mae: 0.2443 - val_loss: 0.2836 - val_mae: 0.3453\n",
      "Epoch 19/300\n",
      "9/9 [==============================] - 0s 7ms/step - loss: 0.1122 - mae: 0.2423 - val_loss: 0.2791 - val_mae: 0.3425\n",
      "Epoch 20/300\n",
      "9/9 [==============================] - 0s 8ms/step - loss: 0.1093 - mae: 0.2388 - val_loss: 0.2749 - val_mae: 0.3398\n",
      "Epoch 21/300\n",
      "9/9 [==============================] - 0s 8ms/step - loss: 0.1068 - mae: 0.2377 - val_loss: 0.2703 - val_mae: 0.3389\n",
      "Epoch 22/300\n",
      "9/9 [==============================] - 0s 8ms/step - loss: 0.1054 - mae: 0.2337 - val_loss: 0.2668 - val_mae: 0.3354\n",
      "Epoch 23/300\n",
      "9/9 [==============================] - 0s 8ms/step - loss: 0.1036 - mae: 0.2325 - val_loss: 0.2636 - val_mae: 0.3343\n",
      "Epoch 24/300\n",
      "9/9 [==============================] - 0s 8ms/step - loss: 0.1010 - mae: 0.2291 - val_loss: 0.2606 - val_mae: 0.3334\n",
      "Epoch 25/300\n",
      "9/9 [==============================] - 0s 6ms/step - loss: 0.0997 - mae: 0.2277 - val_loss: 0.2577 - val_mae: 0.3303\n",
      "Epoch 26/300\n",
      "9/9 [==============================] - 0s 6ms/step - loss: 0.0980 - mae: 0.2260 - val_loss: 0.2551 - val_mae: 0.3301\n",
      "Epoch 27/300\n",
      "9/9 [==============================] - 0s 7ms/step - loss: 0.0965 - mae: 0.2247 - val_loss: 0.2525 - val_mae: 0.3291\n",
      "Epoch 28/300\n",
      "9/9 [==============================] - 0s 6ms/step - loss: 0.0949 - mae: 0.2227 - val_loss: 0.2500 - val_mae: 0.3274\n",
      "Epoch 29/300\n",
      "9/9 [==============================] - 0s 6ms/step - loss: 0.0931 - mae: 0.2199 - val_loss: 0.2479 - val_mae: 0.3248\n",
      "Epoch 30/300\n",
      "9/9 [==============================] - 0s 6ms/step - loss: 0.0917 - mae: 0.2192 - val_loss: 0.2457 - val_mae: 0.3232\n",
      "Epoch 31/300\n",
      "9/9 [==============================] - 0s 7ms/step - loss: 0.0904 - mae: 0.2175 - val_loss: 0.2438 - val_mae: 0.3236\n",
      "Epoch 32/300\n",
      "9/9 [==============================] - 0s 6ms/step - loss: 0.0896 - mae: 0.2164 - val_loss: 0.2418 - val_mae: 0.3217\n",
      "Epoch 33/300\n",
      "9/9 [==============================] - 0s 6ms/step - loss: 0.0881 - mae: 0.2142 - val_loss: 0.2404 - val_mae: 0.3210\n",
      "Epoch 34/300\n",
      "9/9 [==============================] - 0s 7ms/step - loss: 0.0870 - mae: 0.2121 - val_loss: 0.2383 - val_mae: 0.3194\n",
      "Epoch 35/300\n",
      "9/9 [==============================] - 0s 7ms/step - loss: 0.0856 - mae: 0.2114 - val_loss: 0.2369 - val_mae: 0.3186\n",
      "Epoch 36/300\n",
      "9/9 [==============================] - 0s 10ms/step - loss: 0.0844 - mae: 0.2096 - val_loss: 0.2351 - val_mae: 0.3180\n",
      "Epoch 37/300\n",
      "9/9 [==============================] - 0s 9ms/step - loss: 0.0833 - mae: 0.2081 - val_loss: 0.2341 - val_mae: 0.3174\n",
      "Epoch 38/300\n",
      "9/9 [==============================] - 0s 12ms/step - loss: 0.0826 - mae: 0.2065 - val_loss: 0.2327 - val_mae: 0.3167\n",
      "Epoch 39/300\n",
      "9/9 [==============================] - 0s 12ms/step - loss: 0.0813 - mae: 0.2055 - val_loss: 0.2310 - val_mae: 0.3157\n",
      "Epoch 40/300\n",
      "9/9 [==============================] - 0s 10ms/step - loss: 0.0810 - mae: 0.2052 - val_loss: 0.2295 - val_mae: 0.3152\n",
      "Epoch 41/300\n",
      "9/9 [==============================] - 0s 10ms/step - loss: 0.0795 - mae: 0.2033 - val_loss: 0.2282 - val_mae: 0.3144\n",
      "Epoch 42/300\n",
      "9/9 [==============================] - 0s 11ms/step - loss: 0.0785 - mae: 0.2010 - val_loss: 0.2270 - val_mae: 0.3139\n",
      "Epoch 43/300\n",
      "9/9 [==============================] - 0s 10ms/step - loss: 0.0778 - mae: 0.2000 - val_loss: 0.2260 - val_mae: 0.3138\n",
      "Epoch 44/300\n",
      "9/9 [==============================] - 0s 10ms/step - loss: 0.0769 - mae: 0.1988 - val_loss: 0.2250 - val_mae: 0.3134\n",
      "Epoch 45/300\n",
      "9/9 [==============================] - 0s 8ms/step - loss: 0.0763 - mae: 0.1976 - val_loss: 0.2242 - val_mae: 0.3125\n",
      "Epoch 46/300\n",
      "9/9 [==============================] - 0s 7ms/step - loss: 0.0755 - mae: 0.1975 - val_loss: 0.2230 - val_mae: 0.3116\n",
      "Epoch 47/300\n",
      "9/9 [==============================] - 0s 7ms/step - loss: 0.0747 - mae: 0.1967 - val_loss: 0.2219 - val_mae: 0.3112\n",
      "Epoch 48/300\n",
      "9/9 [==============================] - 0s 8ms/step - loss: 0.0736 - mae: 0.1948 - val_loss: 0.2210 - val_mae: 0.3109\n",
      "Epoch 49/300\n",
      "9/9 [==============================] - 0s 7ms/step - loss: 0.0726 - mae: 0.1935 - val_loss: 0.2202 - val_mae: 0.3105\n",
      "Epoch 50/300\n",
      "9/9 [==============================] - 0s 6ms/step - loss: 0.0719 - mae: 0.1915 - val_loss: 0.2198 - val_mae: 0.3106\n",
      "Epoch 51/300\n",
      "9/9 [==============================] - 0s 6ms/step - loss: 0.0715 - mae: 0.1916 - val_loss: 0.2185 - val_mae: 0.3096\n",
      "Epoch 52/300\n",
      "9/9 [==============================] - 0s 6ms/step - loss: 0.0709 - mae: 0.1909 - val_loss: 0.2177 - val_mae: 0.3092\n",
      "Epoch 53/300\n",
      "9/9 [==============================] - 0s 6ms/step - loss: 0.0699 - mae: 0.1890 - val_loss: 0.2169 - val_mae: 0.3087\n",
      "Epoch 54/300\n",
      "9/9 [==============================] - 0s 6ms/step - loss: 0.0693 - mae: 0.1886 - val_loss: 0.2161 - val_mae: 0.3081\n",
      "Epoch 55/300\n",
      "9/9 [==============================] - 0s 7ms/step - loss: 0.0687 - mae: 0.1890 - val_loss: 0.2154 - val_mae: 0.3082\n",
      "Epoch 56/300\n",
      "9/9 [==============================] - 0s 7ms/step - loss: 0.0679 - mae: 0.1857 - val_loss: 0.2148 - val_mae: 0.3074\n",
      "Epoch 57/300\n",
      "9/9 [==============================] - 0s 16ms/step - loss: 0.0674 - mae: 0.1868 - val_loss: 0.2138 - val_mae: 0.3070\n",
      "Epoch 58/300\n",
      "9/9 [==============================] - 0s 13ms/step - loss: 0.0672 - mae: 0.1855 - val_loss: 0.2131 - val_mae: 0.3068\n",
      "Epoch 59/300\n",
      "9/9 [==============================] - 0s 10ms/step - loss: 0.0665 - mae: 0.1847 - val_loss: 0.2124 - val_mae: 0.3064\n",
      "Epoch 60/300\n",
      "9/9 [==============================] - 0s 10ms/step - loss: 0.0659 - mae: 0.1834 - val_loss: 0.2119 - val_mae: 0.3060\n",
      "Epoch 61/300\n",
      "9/9 [==============================] - 0s 10ms/step - loss: 0.0650 - mae: 0.1819 - val_loss: 0.2116 - val_mae: 0.3061\n",
      "Epoch 62/300\n",
      "9/9 [==============================] - 0s 10ms/step - loss: 0.0645 - mae: 0.1828 - val_loss: 0.2112 - val_mae: 0.3063\n",
      "Epoch 63/300\n",
      "9/9 [==============================] - 0s 12ms/step - loss: 0.0645 - mae: 0.1824 - val_loss: 0.2110 - val_mae: 0.3065\n",
      "Epoch 64/300\n",
      "9/9 [==============================] - 0s 8ms/step - loss: 0.0635 - mae: 0.1803 - val_loss: 0.2103 - val_mae: 0.3060\n",
      "Epoch 65/300\n",
      "9/9 [==============================] - 0s 9ms/step - loss: 0.0632 - mae: 0.1802 - val_loss: 0.2097 - val_mae: 0.3058\n",
      "Epoch 66/300\n",
      "9/9 [==============================] - 0s 9ms/step - loss: 0.0625 - mae: 0.1786 - val_loss: 0.2092 - val_mae: 0.3052\n",
      "Epoch 67/300\n",
      "9/9 [==============================] - 0s 9ms/step - loss: 0.0619 - mae: 0.1773 - val_loss: 0.2088 - val_mae: 0.3047\n",
      "Epoch 68/300\n",
      "9/9 [==============================] - 0s 7ms/step - loss: 0.0615 - mae: 0.1773 - val_loss: 0.2083 - val_mae: 0.3048\n",
      "Epoch 69/300\n",
      "9/9 [==============================] - 0s 6ms/step - loss: 0.0608 - mae: 0.1764 - val_loss: 0.2078 - val_mae: 0.3045\n",
      "Epoch 70/300\n",
      "9/9 [==============================] - 0s 6ms/step - loss: 0.0605 - mae: 0.1760 - val_loss: 0.2077 - val_mae: 0.3042\n",
      "Epoch 71/300\n",
      "9/9 [==============================] - 0s 7ms/step - loss: 0.0605 - mae: 0.1763 - val_loss: 0.2073 - val_mae: 0.3041\n",
      "Epoch 72/300\n",
      "9/9 [==============================] - 0s 10ms/step - loss: 0.0594 - mae: 0.1753 - val_loss: 0.2071 - val_mae: 0.3042\n",
      "Epoch 73/300\n",
      "9/9 [==============================] - 0s 8ms/step - loss: 0.0592 - mae: 0.1737 - val_loss: 0.2067 - val_mae: 0.3038\n",
      "Epoch 74/300\n",
      "9/9 [==============================] - 0s 8ms/step - loss: 0.0586 - mae: 0.1731 - val_loss: 0.2064 - val_mae: 0.3035\n",
      "Epoch 75/300\n",
      "9/9 [==============================] - 0s 7ms/step - loss: 0.0583 - mae: 0.1734 - val_loss: 0.2061 - val_mae: 0.3035\n",
      "Epoch 76/300\n",
      "9/9 [==============================] - 0s 7ms/step - loss: 0.0584 - mae: 0.1728 - val_loss: 0.2057 - val_mae: 0.3031\n",
      "Epoch 77/300\n",
      "9/9 [==============================] - 0s 7ms/step - loss: 0.0574 - mae: 0.1718 - val_loss: 0.2055 - val_mae: 0.3034\n",
      "Epoch 78/300\n",
      "9/9 [==============================] - 0s 7ms/step - loss: 0.0570 - mae: 0.1702 - val_loss: 0.2053 - val_mae: 0.3031\n",
      "Epoch 79/300\n",
      "9/9 [==============================] - 0s 6ms/step - loss: 0.0567 - mae: 0.1707 - val_loss: 0.2051 - val_mae: 0.3029\n",
      "Epoch 80/300\n",
      "9/9 [==============================] - 0s 7ms/step - loss: 0.0561 - mae: 0.1702 - val_loss: 0.2050 - val_mae: 0.3030\n",
      "Epoch 81/300\n",
      "9/9 [==============================] - 0s 7ms/step - loss: 0.0558 - mae: 0.1689 - val_loss: 0.2049 - val_mae: 0.3028\n",
      "Epoch 82/300\n",
      "9/9 [==============================] - 0s 7ms/step - loss: 0.0556 - mae: 0.1685 - val_loss: 0.2045 - val_mae: 0.3027\n",
      "Epoch 83/300\n",
      "9/9 [==============================] - 0s 14ms/step - loss: 0.0549 - mae: 0.1687 - val_loss: 0.2044 - val_mae: 0.3026\n",
      "Epoch 84/300\n",
      "9/9 [==============================] - 0s 7ms/step - loss: 0.0549 - mae: 0.1678 - val_loss: 0.2041 - val_mae: 0.3023\n",
      "Epoch 85/300\n",
      "9/9 [==============================] - 0s 7ms/step - loss: 0.0545 - mae: 0.1669 - val_loss: 0.2040 - val_mae: 0.3023\n",
      "Epoch 86/300\n",
      "9/9 [==============================] - 0s 8ms/step - loss: 0.0541 - mae: 0.1668 - val_loss: 0.2038 - val_mae: 0.3020\n",
      "Epoch 87/300\n",
      "9/9 [==============================] - 0s 10ms/step - loss: 0.0536 - mae: 0.1656 - val_loss: 0.2036 - val_mae: 0.3020\n",
      "Epoch 88/300\n",
      "9/9 [==============================] - 0s 9ms/step - loss: 0.0531 - mae: 0.1648 - val_loss: 0.2036 - val_mae: 0.3020\n",
      "Epoch 89/300\n",
      "9/9 [==============================] - 0s 7ms/step - loss: 0.0532 - mae: 0.1645 - val_loss: 0.2034 - val_mae: 0.3019\n",
      "Epoch 90/300\n",
      "9/9 [==============================] - 0s 7ms/step - loss: 0.0526 - mae: 0.1650 - val_loss: 0.2034 - val_mae: 0.3018\n",
      "Epoch 91/300\n",
      "9/9 [==============================] - 0s 7ms/step - loss: 0.0525 - mae: 0.1644 - val_loss: 0.2033 - val_mae: 0.3016\n",
      "Epoch 92/300\n",
      "9/9 [==============================] - 0s 6ms/step - loss: 0.0520 - mae: 0.1617 - val_loss: 0.2031 - val_mae: 0.3018\n",
      "Epoch 93/300\n",
      "9/9 [==============================] - 0s 6ms/step - loss: 0.0516 - mae: 0.1631 - val_loss: 0.2030 - val_mae: 0.3015\n",
      "Epoch 94/300\n",
      "9/9 [==============================] - 0s 7ms/step - loss: 0.0512 - mae: 0.1621 - val_loss: 0.2029 - val_mae: 0.3015\n",
      "Epoch 95/300\n",
      "9/9 [==============================] - 0s 7ms/step - loss: 0.0511 - mae: 0.1621 - val_loss: 0.2026 - val_mae: 0.3012\n",
      "Epoch 96/300\n",
      "9/9 [==============================] - 0s 8ms/step - loss: 0.0506 - mae: 0.1610 - val_loss: 0.2027 - val_mae: 0.3014\n",
      "Epoch 97/300\n",
      "9/9 [==============================] - 0s 10ms/step - loss: 0.0505 - mae: 0.1609 - val_loss: 0.2028 - val_mae: 0.3016\n",
      "Epoch 98/300\n",
      "9/9 [==============================] - 0s 11ms/step - loss: 0.0503 - mae: 0.1618 - val_loss: 0.2026 - val_mae: 0.3014\n",
      "Epoch 99/300\n",
      "9/9 [==============================] - 0s 11ms/step - loss: 0.0502 - mae: 0.1611 - val_loss: 0.2024 - val_mae: 0.3012\n",
      "Epoch 100/300\n",
      "9/9 [==============================] - 0s 10ms/step - loss: 0.0497 - mae: 0.1602 - val_loss: 0.2024 - val_mae: 0.3013\n",
      "Epoch 101/300\n",
      "9/9 [==============================] - 0s 7ms/step - loss: 0.0492 - mae: 0.1590 - val_loss: 0.2023 - val_mae: 0.3012\n",
      "Epoch 102/300\n",
      "9/9 [==============================] - 0s 8ms/step - loss: 0.0490 - mae: 0.1574 - val_loss: 0.2022 - val_mae: 0.3012\n",
      "Epoch 103/300\n",
      "9/9 [==============================] - 0s 8ms/step - loss: 0.0487 - mae: 0.1579 - val_loss: 0.2020 - val_mae: 0.3010\n",
      "Epoch 104/300\n",
      "9/9 [==============================] - 0s 17ms/step - loss: 0.0483 - mae: 0.1573 - val_loss: 0.2019 - val_mae: 0.3010\n",
      "Epoch 105/300\n",
      "9/9 [==============================] - 0s 9ms/step - loss: 0.0481 - mae: 0.1569 - val_loss: 0.2019 - val_mae: 0.3012\n",
      "Epoch 106/300\n",
      "9/9 [==============================] - 0s 12ms/step - loss: 0.0479 - mae: 0.1566 - val_loss: 0.2017 - val_mae: 0.3008\n",
      "Epoch 107/300\n",
      "9/9 [==============================] - 0s 9ms/step - loss: 0.0476 - mae: 0.1565 - val_loss: 0.2019 - val_mae: 0.3010\n",
      "Epoch 108/300\n",
      "9/9 [==============================] - 0s 12ms/step - loss: 0.0474 - mae: 0.1562 - val_loss: 0.2018 - val_mae: 0.3009\n",
      "Epoch 109/300\n",
      "9/9 [==============================] - 0s 11ms/step - loss: 0.0469 - mae: 0.1552 - val_loss: 0.2021 - val_mae: 0.3009\n",
      "Epoch 110/300\n",
      "9/9 [==============================] - 0s 7ms/step - loss: 0.0467 - mae: 0.1555 - val_loss: 0.2018 - val_mae: 0.3007\n",
      "Epoch 111/300\n",
      "9/9 [==============================] - 0s 8ms/step - loss: 0.0464 - mae: 0.1539 - val_loss: 0.2018 - val_mae: 0.3008\n",
      "Epoch 112/300\n",
      "9/9 [==============================] - 0s 11ms/step - loss: 0.0463 - mae: 0.1545 - val_loss: 0.2017 - val_mae: 0.3006\n",
      "Epoch 113/300\n",
      "9/9 [==============================] - 0s 9ms/step - loss: 0.0459 - mae: 0.1528 - val_loss: 0.2017 - val_mae: 0.3008\n",
      "Epoch 114/300\n",
      "9/9 [==============================] - 0s 8ms/step - loss: 0.0458 - mae: 0.1530 - val_loss: 0.2018 - val_mae: 0.3007\n",
      "Epoch 115/300\n",
      "9/9 [==============================] - 0s 8ms/step - loss: 0.0454 - mae: 0.1529 - val_loss: 0.2017 - val_mae: 0.3008\n",
      "Epoch 116/300\n",
      "9/9 [==============================] - 0s 18ms/step - loss: 0.0454 - mae: 0.1527 - val_loss: 0.2016 - val_mae: 0.3006\n",
      "Epoch 117/300\n",
      "9/9 [==============================] - 0s 17ms/step - loss: 0.0449 - mae: 0.1519 - val_loss: 0.2016 - val_mae: 0.3007\n",
      "Epoch 118/300\n",
      "9/9 [==============================] - 0s 7ms/step - loss: 0.0448 - mae: 0.1510 - val_loss: 0.2014 - val_mae: 0.3004\n",
      "Epoch 119/300\n",
      "9/9 [==============================] - 0s 9ms/step - loss: 0.0447 - mae: 0.1515 - val_loss: 0.2016 - val_mae: 0.3006\n",
      "Epoch 120/300\n",
      "9/9 [==============================] - 0s 16ms/step - loss: 0.0444 - mae: 0.1508 - val_loss: 0.2015 - val_mae: 0.3006\n",
      "Epoch 121/300\n",
      "9/9 [==============================] - 0s 7ms/step - loss: 0.0442 - mae: 0.1495 - val_loss: 0.2017 - val_mae: 0.3006\n",
      "Epoch 122/300\n",
      "9/9 [==============================] - 0s 7ms/step - loss: 0.0437 - mae: 0.1507 - val_loss: 0.2014 - val_mae: 0.3004\n",
      "Epoch 123/300\n",
      "9/9 [==============================] - 0s 7ms/step - loss: 0.0435 - mae: 0.1492 - val_loss: 0.2014 - val_mae: 0.3004\n",
      "Epoch 124/300\n",
      "9/9 [==============================] - 0s 8ms/step - loss: 0.0435 - mae: 0.1487 - val_loss: 0.2013 - val_mae: 0.3003\n",
      "Epoch 125/300\n",
      "9/9 [==============================] - 0s 7ms/step - loss: 0.0432 - mae: 0.1489 - val_loss: 0.2014 - val_mae: 0.3001\n",
      "Epoch 126/300\n",
      "9/9 [==============================] - 0s 7ms/step - loss: 0.0429 - mae: 0.1483 - val_loss: 0.2014 - val_mae: 0.3001\n",
      "Epoch 127/300\n",
      "9/9 [==============================] - 0s 7ms/step - loss: 0.0427 - mae: 0.1477 - val_loss: 0.2015 - val_mae: 0.3003\n",
      "Epoch 128/300\n",
      "9/9 [==============================] - 0s 17ms/step - loss: 0.0428 - mae: 0.1474 - val_loss: 0.2016 - val_mae: 0.3004\n",
      "Epoch 129/300\n",
      "9/9 [==============================] - 0s 7ms/step - loss: 0.0422 - mae: 0.1477 - val_loss: 0.2014 - val_mae: 0.3000\n",
      "Epoch 130/300\n",
      "9/9 [==============================] - 0s 15ms/step - loss: 0.0419 - mae: 0.1463 - val_loss: 0.2014 - val_mae: 0.3002\n",
      "Epoch 131/300\n",
      "9/9 [==============================] - 0s 7ms/step - loss: 0.0422 - mae: 0.1458 - val_loss: 0.2013 - val_mae: 0.3003\n",
      "Epoch 132/300\n",
      "9/9 [==============================] - 0s 6ms/step - loss: 0.0415 - mae: 0.1458 - val_loss: 0.2018 - val_mae: 0.3010\n",
      "Epoch 133/300\n",
      "9/9 [==============================] - 0s 7ms/step - loss: 0.0415 - mae: 0.1471 - val_loss: 0.2015 - val_mae: 0.3003\n",
      "Epoch 134/300\n",
      "9/9 [==============================] - 0s 7ms/step - loss: 0.0412 - mae: 0.1459 - val_loss: 0.2016 - val_mae: 0.3003\n"
     ]
    },
    {
     "data": {
      "text/plain": [
       "<keras.src.callbacks.History at 0x1986ae0e0d0>"
      ]
     },
     "execution_count": 147,
     "metadata": {},
     "output_type": "execute_result"
    }
   ],
   "source": [
    "model.fit(x_train,y_train,epochs=300, validation_data=(x_valid,y_valid),callbacks=[check_point])\n"
   ]
  },
  {
   "cell_type": "code",
   "execution_count": null,
   "metadata": {},
   "outputs": [
    {
     "name": "stdout",
     "output_type": "stream",
     "text": [
      "4/4 [==============================] - 0s 2ms/step - loss: 2.0130 - mae: 0.4092\n"
     ]
    },
    {
     "data": {
      "text/plain": [
       "[2.013018846511841, 0.4092123210430145]"
      ]
     },
     "execution_count": 148,
     "metadata": {},
     "output_type": "execute_result"
    }
   ],
   "source": [
    "model.evaluate(x_test,y_test)"
   ]
  },
  {
   "cell_type": "code",
   "execution_count": null,
   "metadata": {},
   "outputs": [
    {
     "data": {
      "text/plain": [
       "<keras.src.callbacks.History at 0x1986bf82610>"
      ]
     },
     "execution_count": 149,
     "metadata": {},
     "output_type": "execute_result"
    }
   ],
   "source": [
    "model.history"
   ]
  },
  {
   "cell_type": "code",
   "execution_count": null,
   "metadata": {},
   "outputs": [],
   "source": [
    "x_new=x_test[:5]"
   ]
  },
  {
   "cell_type": "code",
   "execution_count": null,
   "metadata": {},
   "outputs": [
    {
     "name": "stdout",
     "output_type": "stream",
     "text": [
      "1/1 [==============================] - 0s 171ms/step\n"
     ]
    }
   ],
   "source": [
    "prediction=model.predict(x_new)"
   ]
  },
  {
   "cell_type": "code",
   "execution_count": null,
   "metadata": {},
   "outputs": [
    {
     "data": {
      "text/plain": [
       "array([[2.8375015],\n",
       "       [2.3814645],\n",
       "       [1.7513008],\n",
       "       [2.3930135],\n",
       "       [1.8397089]], dtype=float32)"
      ]
     },
     "execution_count": 152,
     "metadata": {},
     "output_type": "execute_result"
    }
   ],
   "source": [
    "prediction"
   ]
  },
  {
   "cell_type": "code",
   "execution_count": null,
   "metadata": {},
   "outputs": [
    {
     "data": {
      "text/html": [
       "<div>\n",
       "<style scoped>\n",
       "    .dataframe tbody tr th:only-of-type {\n",
       "        vertical-align: middle;\n",
       "    }\n",
       "\n",
       "    .dataframe tbody tr th {\n",
       "        vertical-align: top;\n",
       "    }\n",
       "\n",
       "    .dataframe thead th {\n",
       "        text-align: right;\n",
       "    }\n",
       "</style>\n",
       "<table border=\"1\" class=\"dataframe\">\n",
       "  <thead>\n",
       "    <tr style=\"text-align: right;\">\n",
       "      <th></th>\n",
       "      <th>Collection</th>\n",
       "    </tr>\n",
       "  </thead>\n",
       "  <tbody>\n",
       "    <tr>\n",
       "      <th>173</th>\n",
       "      <td>2.240000</td>\n",
       "    </tr>\n",
       "    <tr>\n",
       "      <th>274</th>\n",
       "      <td>2.826667</td>\n",
       "    </tr>\n",
       "    <tr>\n",
       "      <th>491</th>\n",
       "      <td>1.573333</td>\n",
       "    </tr>\n",
       "    <tr>\n",
       "      <th>72</th>\n",
       "      <td>2.186667</td>\n",
       "    </tr>\n",
       "    <tr>\n",
       "      <th>452</th>\n",
       "      <td>1.740000</td>\n",
       "    </tr>\n",
       "  </tbody>\n",
       "</table>\n",
       "</div>"
      ],
      "text/plain": [
       "     Collection\n",
       "173    2.240000\n",
       "274    2.826667\n",
       "491    1.573333\n",
       "72     2.186667\n",
       "452    1.740000"
      ]
     },
     "execution_count": 153,
     "metadata": {},
     "output_type": "execute_result"
    }
   ],
   "source": [
    "y_test[:5]"
   ]
  },
  {
   "cell_type": "code",
   "execution_count": null,
   "metadata": {},
   "outputs": [
    {
     "name": "stderr",
     "output_type": "stream",
     "text": [
      "c:\\Users\\DELL\\AppData\\Local\\Programs\\Python\\Python311\\Lib\\site-packages\\keras\\src\\engine\\training.py:3000: UserWarning: You are saving your model as an HDF5 file via `model.save()`. This file format is considered legacy. We recommend using instead the native Keras format, e.g. `model.save('my_model.keras')`.\n",
      "  saving_api.save_model(\n"
     ]
    }
   ],
   "source": [
    "model.save('movie.h5')"
   ]
  },
  {
   "cell_type": "code",
   "execution_count": null,
   "metadata": {},
   "outputs": [],
   "source": [
    "from sklearn.metrics import accuracy_score\n"
   ]
  },
  {
   "cell_type": "code",
   "execution_count": null,
   "metadata": {},
   "outputs": [],
   "source": []
  },
  {
   "cell_type": "code",
   "execution_count": null,
   "metadata": {},
   "outputs": [],
   "source": []
  }
 ],
 "metadata": {
  "kernelspec": {
   "display_name": "Python 3",
   "language": "python",
   "name": "python3"
  },
  "language_info": {
   "codemirror_mode": {
    "name": "ipython",
    "version": 3
   },
   "file_extension": ".py",
   "mimetype": "text/x-python",
   "name": "python",
   "nbconvert_exporter": "python",
   "pygments_lexer": "ipython3",
   "version": "3.11.4"
  },
  "orig_nbformat": 4
 },
 "nbformat": 4,
 "nbformat_minor": 2
}
